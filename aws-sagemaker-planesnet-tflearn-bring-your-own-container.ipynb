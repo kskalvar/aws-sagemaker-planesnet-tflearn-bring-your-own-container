{
 "cells": [
  {
   "cell_type": "markdown",
   "metadata": {},
   "source": [
    "# Building your own algorithm container\n",
    "\n",
    "With Amazon SageMaker, you can package your own algorithms that can than be trained and deployed in the SageMaker environment. This notebook will guide you through an example that shows you how to build a Docker container for SageMaker and use it for training and inference."
   ]
  },
  {
   "cell_type": "code",
   "execution_count": null,
   "metadata": {},
   "outputs": [],
   "source": [
    "%%time\n",
    "%%sh\n",
    "\n",
    "# The name of our algorithm\n",
    "algorithm_name=decision-trees\n",
    "\n",
    "cd container\n",
    "\n",
    "chmod +x decision_trees/train\n",
    "chmod +x decision_trees/serve\n",
    "\n",
    "account=$(aws sts get-caller-identity --query Account --output text)\n",
    "\n",
    "# Get the region defined in the current configuration (default to us-west-2 if none defined)\n",
    "region=$(aws configure get region)\n",
    "region=${region:-us-east-1}\n",
    "\n",
    "fullname=\"${account}.dkr.ecr.${region}.amazonaws.com/${algorithm_name}:latest\"\n",
    "\n",
    "# If the repository doesn't exist in ECR, create it.\n",
    "\n",
    "aws ecr describe-repositories --repository-names \"${algorithm_name}\" > /dev/null 2>&1\n",
    "\n",
    "if [ $? -ne 0 ]\n",
    "then\n",
    "    aws ecr create-repository --repository-name \"${algorithm_name}\" > /dev/null\n",
    "fi\n",
    "\n",
    "# Get the login command from ECR and execute it directly\n",
    "$(aws ecr get-login --region ${region} --no-include-email)\n",
    "\n",
    "# Build the docker image locally with the image name and then push it to ECR\n",
    "# with the full name.\n",
    "\n",
    "docker build  -t ${algorithm_name} .\n",
    "docker tag ${algorithm_name} ${fullname}\n",
    "\n",
    "docker push ${fullname}"
   ]
  },
  {
   "cell_type": "code",
   "execution_count": null,
   "metadata": {},
   "outputs": [],
   "source": [
    "# S3 prefix\n",
    "prefix = 'tflearn-planesnet'\n",
    "\n",
    "# Define IAM role\n",
    "import boto3\n",
    "import re\n",
    "\n",
    "import os\n",
    "import numpy as np\n",
    "import pandas as pd\n",
    "from sagemaker import get_execution_role\n",
    "\n",
    "role = get_execution_role()"
   ]
  },
  {
   "cell_type": "code",
   "execution_count": null,
   "metadata": {},
   "outputs": [],
   "source": [
    "import sagemaker as sage\n",
    "from time import gmtime, strftime\n",
    "\n",
    "sess = sage.Session()"
   ]
  },
  {
   "cell_type": "code",
   "execution_count": null,
   "metadata": {},
   "outputs": [],
   "source": [
    "!unzip data/planesnet.json.zip -d data"
   ]
  },
  {
   "cell_type": "code",
   "execution_count": null,
   "metadata": {},
   "outputs": [],
   "source": [
    "%%time\n",
    "WORK_DIRECTORY = 'data'\n",
    "\n",
    "data_location = sess.upload_data(WORK_DIRECTORY, key_prefix=prefix)"
   ]
  },
  {
   "cell_type": "code",
   "execution_count": null,
   "metadata": {},
   "outputs": [],
   "source": [
    "%%time\n",
    "account = sess.boto_session.client('sts').get_caller_identity()['Account']\n",
    "region = sess.boto_session.region_name\n",
    "image = '{}.dkr.ecr.{}.amazonaws.com/decision-trees:latest'.format(account, region)\n",
    "\n",
    "tree = sage.estimator.Estimator(image,\n",
    "                       role, 1, 'ml.c5.9xlarge',\n",
    "                       output_path=\"s3://{}/output\".format(sess.default_bucket()),\n",
    "                       sagemaker_session=sess)\n",
    "\n",
    "tree.fit(data_location)"
   ]
  },
  {
   "cell_type": "code",
   "execution_count": null,
   "metadata": {},
   "outputs": [],
   "source": [
    "%%time\n",
    "predictor = tree.deploy(initial_instance_count=1, instance_type='ml.m4.xlarge')"
   ]
  },
  {
   "cell_type": "code",
   "execution_count": null,
   "metadata": {},
   "outputs": [],
   "source": [
    "!pip install hickle msgpack argparse>=1.1"
   ]
  },
  {
   "cell_type": "code",
   "execution_count": null,
   "metadata": {},
   "outputs": [],
   "source": [
    "%%time\n",
    "import sys\n",
    "import os\n",
    "import numpy as np\n",
    "from PIL import Image\n",
    "from scipy import ndimage\n",
    "\n",
    "import hickle\n",
    "\n",
    "in_fname='scene_1.png'\n",
    "out_fname=None\n",
    "\n",
    "# Load trained model\n",
    "# model.load(model_fname)\n",
    "\n",
    "# Read input image data\n",
    "im = Image.open(in_fname)\n",
    "arr = np.array(im)[:,:,0:3]\n",
    "shape = arr.shape\n",
    "\n",
    "# Set output fname\n",
    "if not out_fname: \n",
    "    out_fname = os.path.splitext(in_fname)[0] + '_detection.png'\n",
    "\n",
    "# Create detection variables\n",
    "detections = np.zeros((shape[0], shape[1]), dtype='uint8')\n",
    "output = np.copy(arr)\n",
    "\n",
    "# Sliding window parameters\n",
    "step = 2\n",
    "win = 20\n",
    "\n",
    "# Loop through pixel positions\n",
    "print('Processing...')\n",
    "for i in range(0, shape[0]-win, step):\n",
    "    print('row %1.0f of %1.0f' % (i, (shape[0]-win-1)))\n",
    "\n",
    "    for j in range(0, shape[1]-win, step):\n",
    "\n",
    "        # Extract sub chip\n",
    "        chip = arr[i:i+win,j:j+win,:]\n",
    "        hickle.dump( chip, '/tmp/chip-%i.hkl' %i )\n",
    "        \n",
    "            \n",
    "        # Predict chip label\n",
    "        # prediction = model.predict_label([chip / 255.])[0][0]\n",
    "        print(predictor.predict('/tmp/chip-%i.hkl' %i))\n",
    "\n",
    "        # Record positive detections\n",
    "        # if prediction == 1:\n",
    "        #    detections[i+int(win/2), j+int(win/2)] = 1\n",
    "\n",
    "# Process detection locations\n",
    "dilation = ndimage.binary_dilation(detections, structure=np.ones((3,3)))\n",
    "labels, n_labels = ndimage.label(dilation)\n",
    "center_mass = ndimage.center_of_mass(dilation, labels, np.arange(n_labels)+1)\n",
    "\n",
    "# Loop through detection locations\n",
    "if type(center_mass) == tuple: center_mass = [center_mass]\n",
    "for i, j in center_mass:\n",
    "    i = int(i - win/2)\n",
    "    j = int(j - win/2)\n",
    "        \n",
    "# Draw bounding boxes in output array\n",
    "output[i:i+win, j:j+2, 0:3] = [255,0,0]\n",
    "output[i:i+win, j+win-2:j+win, 0:3] = [255,0,0]\n",
    "output[i:i+2, j:j+win, 0:3] = [255,0,0]\n",
    "output[i+win-2:i+win, j:j+win, 0:3] = [255,0,0]\n",
    "\n",
    "# Save output image\n",
    "outIm = Image.fromarray(output)\n",
    "outIm.save(out_fname)"
   ]
  },
  {
   "cell_type": "code",
   "execution_count": null,
   "metadata": {},
   "outputs": [],
   "source": [
    "# Display aircraft detected from scene_1.png\n",
    "from IPython.display import Image\n",
    "Image(\"scene_1_detection.png\")"
   ]
  },
  {
   "cell_type": "code",
   "execution_count": null,
   "metadata": {},
   "outputs": [],
   "source": []
  }
 ],
 "metadata": {
  "kernelspec": {
   "display_name": "conda_python2",
   "language": "python",
   "name": "conda_python2"
  },
  "language_info": {
   "codemirror_mode": {
    "name": "ipython",
    "version": 2
   },
   "file_extension": ".py",
   "mimetype": "text/x-python",
   "name": "python",
   "nbconvert_exporter": "python",
   "pygments_lexer": "ipython2",
   "version": "2.7.14"
  }
 },
 "nbformat": 4,
 "nbformat_minor": 2
}
